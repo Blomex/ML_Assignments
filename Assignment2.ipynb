{
 "cells": [
  {
   "cell_type": "code",
   "execution_count": 30,
   "outputs": [],
   "source": [
    "#imports\n",
    "#sklearn, numpy, pandas, but there's also torch which I didn't achieve good enough results with.\n",
    "from __future__ import print_function\n",
    "import numpy as np\n",
    "import pandas as pd\n",
    "import matplotlib.pyplot as plt\n",
    "import torch\n",
    "from sklearn.svm import LinearSVC\n",
    "import torch.nn as nn\n",
    "import torch.utils.data as torchdata\n",
    "from torch.autograd import Variable\n",
    "from sklearn.naive_bayes import MultinomialNB\n",
    "from sklearn.linear_model import Lasso, SGDClassifier, LogisticRegressionCV\n",
    "import torch.optim as optim\n",
    "from sklearn.feature_extraction.text import CountVectorizer, TfidfVectorizer"
   ],
   "metadata": {
    "collapsed": false,
    "pycharm": {
     "name": "#%%\n",
     "is_executing": false
    }
   }
  },
  {
   "cell_type": "code",
   "execution_count": 31,
   "outputs": [
    {
     "data": {
      "text/plain": "            cuisine     id                                        ingredients\n0           chinese  29565  [romaine lettuce, sliced almonds, vegetable oi...\n1           italian  15528  [pistachios, dried fig, bread ciabatta, extra-...\n2      cajun_creole  38015  [olive oil, lemon, chili sauce, shrimp, butter...\n3           italian  20511  [fresh basil, olive oil, potato gnocchi, garli...\n4           chinese  44111  [honey, portabello mushroom, tamari soy sauce,...\n...             ...    ...                                                ...\n29995  cajun_creole  40418  [powdered sugar, dry yeast, whole milk, all-pu...\n29996      filipino  19442  [sugar, corn starch, salt, water, soy sauce, b...\n29997       mexican   5301  [tomatoes, pasilla chiles, radishes, garlic, l...\n29998      japanese   2357  [green tea, baking powder, egg yolks, cake flo...\n29999       mexican  37296  [ice cubes, triple sec, seedless green grape, ...\n\n[30000 rows x 3 columns]",
      "text/html": "<div>\n<style scoped>\n    .dataframe tbody tr th:only-of-type {\n        vertical-align: middle;\n    }\n\n    .dataframe tbody tr th {\n        vertical-align: top;\n    }\n\n    .dataframe thead th {\n        text-align: right;\n    }\n</style>\n<table border=\"1\" class=\"dataframe\">\n  <thead>\n    <tr style=\"text-align: right;\">\n      <th></th>\n      <th>cuisine</th>\n      <th>id</th>\n      <th>ingredients</th>\n    </tr>\n  </thead>\n  <tbody>\n    <tr>\n      <th>0</th>\n      <td>chinese</td>\n      <td>29565</td>\n      <td>[romaine lettuce, sliced almonds, vegetable oi...</td>\n    </tr>\n    <tr>\n      <th>1</th>\n      <td>italian</td>\n      <td>15528</td>\n      <td>[pistachios, dried fig, bread ciabatta, extra-...</td>\n    </tr>\n    <tr>\n      <th>2</th>\n      <td>cajun_creole</td>\n      <td>38015</td>\n      <td>[olive oil, lemon, chili sauce, shrimp, butter...</td>\n    </tr>\n    <tr>\n      <th>3</th>\n      <td>italian</td>\n      <td>20511</td>\n      <td>[fresh basil, olive oil, potato gnocchi, garli...</td>\n    </tr>\n    <tr>\n      <th>4</th>\n      <td>chinese</td>\n      <td>44111</td>\n      <td>[honey, portabello mushroom, tamari soy sauce,...</td>\n    </tr>\n    <tr>\n      <th>...</th>\n      <td>...</td>\n      <td>...</td>\n      <td>...</td>\n    </tr>\n    <tr>\n      <th>29995</th>\n      <td>cajun_creole</td>\n      <td>40418</td>\n      <td>[powdered sugar, dry yeast, whole milk, all-pu...</td>\n    </tr>\n    <tr>\n      <th>29996</th>\n      <td>filipino</td>\n      <td>19442</td>\n      <td>[sugar, corn starch, salt, water, soy sauce, b...</td>\n    </tr>\n    <tr>\n      <th>29997</th>\n      <td>mexican</td>\n      <td>5301</td>\n      <td>[tomatoes, pasilla chiles, radishes, garlic, l...</td>\n    </tr>\n    <tr>\n      <th>29998</th>\n      <td>japanese</td>\n      <td>2357</td>\n      <td>[green tea, baking powder, egg yolks, cake flo...</td>\n    </tr>\n    <tr>\n      <th>29999</th>\n      <td>mexican</td>\n      <td>37296</td>\n      <td>[ice cubes, triple sec, seedless green grape, ...</td>\n    </tr>\n  </tbody>\n</table>\n<p>30000 rows × 3 columns</p>\n</div>"
     },
     "metadata": {},
     "output_type": "execute_result",
     "execution_count": 31
    }
   ],
   "source": [
    "df = pd.read_json(\"cooking_train.json\")\n",
    "testset = pd.read_json(\"cooking_test.json\")\n",
    "df\n"
   ],
   "metadata": {
    "collapsed": false,
    "pycharm": {
     "name": "#%%\n",
     "is_executing": false
    }
   }
  },
  {
   "cell_type": "code",
   "execution_count": 56,
   "outputs": [
    {
     "name": "stdout",
     "text": [
      "['brazilian', 'british', 'cajun_creole', 'chinese', 'filipino', 'french', 'greek', 'indian', 'irish', 'italian', 'jamaican', 'japanese', 'korean', 'mexican', 'moroccan', 'russian', 'southern_us', 'spanish', 'thai', 'vietnamese']\n"
     ],
     "output_type": "stream"
    },
    {
     "data": {
      "text/plain": "(30000, 305467)"
     },
     "metadata": {},
     "output_type": "execute_result",
     "execution_count": 56
    }
   ],
   "source": [
    "import re\n",
    "useless_columns = [\"\\ *\\(.*\\)\\ *\", \"(\\ hot)|(hot\\ )\", \"\\ *cold\\ *\", \"\\ *tap\\ *\", \"\\ *half &\\ *\", \"(\\ spring)|(spring\\ )\", \"\\ *boiling\\ *\", \n",
    "             \"\\ *warm\\ *\", \"(\\ fresh)|(fresh\\ )\", \"\\ *halves\\ *\", \"\\ *luke\\ *\", \"(extra)?\\ *large\\ *\", \"(\\ boneless)|(boneless\\ )\",\n",
    "             \"\\ *homemade\\ *\", \"(\\ low sodium)|(low sodium\\ )\", \"(\\ skinless)|(skinless\\ )\", \"(\\ frozen)|(frozen\\ )\", \"(\\ raw)|(raw\\ )\",\n",
    "             \"(\\ cooked)|(cooked\\ )\", \"(\\ shredded)|(shredded\\ )\", \"(\\ minced)|(minced\\ )\", \"(\\ diced)|(diced\\ )\", \"\\* soft\\ *\",\n",
    "                   \"(\\ style)|(style\\ )\"]\n",
    "def my_preprocessor(line):\n",
    "    line = map(remove, line)\n",
    "    return ', '.join(line).lower()\n",
    "def remove(x):\n",
    "    res = x\n",
    "    for r in useless_columns:\n",
    "        res = re.sub(r, \"\", res)\n",
    "    return res\n",
    "# my tokenizer not only adds words but also pairs of words\n",
    "# for example \"this is me\" would be tokenized to \"this\", \"is\", \"me\", \"is this\" \"is me\" \"me this\" (2-words sorted lexicographically)\n",
    "def tokenizer(doc):\n",
    "    doc = doc.replace(', ', ' ')\n",
    "    splitted =  doc.split(' ')\n",
    "    splitted2 = []\n",
    "    for x in splitted:\n",
    "        for y in splitted:\n",
    "            if x < y:\n",
    "                splitted2.append(x+y)\n",
    "    for x in splitted:\n",
    "        splitted2.append(x)\n",
    "    return splitted2\n",
    "\n",
    "# I tried using both CountVectorizer and TfidfVectorizer\n",
    "#for NN entry data, I also tried grouping each ingredient instead of each word of ingredient. \n",
    "# In result there were over 6000 columns, but results were actually worse, so I sticked to grouping each word.\n",
    "vectorizer = CountVectorizer(preprocessor=my_preprocessor, strip_accents='unicode')\n",
    "\n",
    "vect_tfidf = TfidfVectorizer(preprocessor=my_preprocessor, tokenizer=tokenizer, strip_accents='unicode')\n",
    "ingredients = df['ingredients']\n",
    "test_ingr = testset['ingredients']\n",
    "\n",
    "#this is data for linear models\n",
    "train_set = vect_tfidf.fit_transform(ingredients)\n",
    "ids = testset.id.values\n",
    "\n",
    "test_set = vect_tfidf.transform(testset['ingredients'])\n",
    "\n",
    "cuisine = sorted(set(df.cuisine))\n",
    "print(cuisine)\n",
    "\n",
    "# For vector Y\n",
    "def encode_cuisine (elem):\n",
    "    return cuisine.index(elem)\n",
    "data_y = [encode_cuisine(x) for x in df['cuisine'].values]\n",
    "def decode_cuisine(index):\n",
    "    return cuisine[index]\n",
    "\n",
    "#this is data for neural network\n",
    "X = vectorizer.fit_transform(ingredients)\n",
    "test = vectorizer.transform(test_ingr)\n",
    "ad = pd.DataFrame(data=X.toarray(), columns=vectorizer.get_feature_names())\n",
    "testdf = pd.DataFrame(data = test.toarray(), columns=vectorizer.get_feature_names())\n",
    "\n",
    "train_set.shape"
   ],
   "metadata": {
    "collapsed": false,
    "pycharm": {
     "name": "#%%\n",
     "is_executing": false
    }
   }
  },
  {
   "cell_type": "code",
   "execution_count": 57,
   "outputs": [
    {
     "data": {
      "text/plain": "0.8062"
     },
     "metadata": {},
     "output_type": "execute_result",
     "execution_count": 57
    }
   ],
   "source": [
    "train_set_1 = train_set[0:25000]\n",
    "train_set_2 = train_set[25000:30000]\n",
    "train_set_1_result = [encode_cuisine(x) for x in df['cuisine'][0:25000]]\n",
    "train_set_2_result = [encode_cuisine(x) for x in df['cuisine'][25000:30000]]\n",
    "# clf = LinearSVC(penalty='l2', loss='squared_hinge', dual=False, tol=1e-3, C=0.5, max_iter=50) \n",
    "clf = LinearSVC()\n",
    "clf.fit(train_set_1, train_set_1_result)\n",
    "clf.score(train_set_2, train_set_2_result)"
   ],
   "metadata": {
    "collapsed": false,
    "pycharm": {
     "name": "#%%\n",
     "is_executing": false
    }
   }
  },
  {
   "cell_type": "code",
   "execution_count": 26,
   "outputs": [
    {
     "data": {
      "text/plain": "<Figure size 432x288 with 1 Axes>",
      "image/png": "[encoded data removed]"
     },
     "metadata": {
      "needs_background": "light"
     },
     "output_type": "display_data"
    }
   ],
   "source": [
    "#At first I wanted to use this to compare different models, but some of them were taking a lot of time to fit\n",
    "# So I decided to only use SGD and LinearSVC as they were fitting quickly and giving best results\n",
    "def plot_score(arr, train, train_res, test, test_res):\n",
    "    res = {}\n",
    "    step = 550\n",
    "    points = [0 for z in range(int(22000/step))]\n",
    "    for x in arr:\n",
    "        res[x] = [0 for z in range(int(22000/step))]\n",
    "    for i in range(0, 22000, step):\n",
    "        for x in arr:\n",
    "            x.fit(train[:i+step], train_res[:i+step])\n",
    "            res[x][int(i/step)] = x.score(test, test_res)\n",
    "        points[int(i/step)] = i\n",
    "    for z in arr:\n",
    "        plt.plot(points, res[z], label=z)\n",
    "    plt.legend(loc=\"center left\", bbox_to_anchor=(1, 0.5))\n",
    "    plt.show()\n",
    "    #testing some different classifiers\n",
    "plot_score([LinearSVC(penalty='l2', loss='squared_hinge', dual=False, tol=1e-3, C=0.5, max_iter=50), \n",
    "            SGDClassifier()\n",
    "            ]\n",
    "           , train_set, train_set_1_result, train_set_2, train_set_2_result)"
   ],
   "metadata": {
    "collapsed": false,
    "pycharm": {
     "name": "#%%\n",
     "is_executing": false
    }
   }
  },
  {
   "cell_type": "code",
   "execution_count": 53,
   "outputs": [
    {
     "name": "stdout",
     "text": [
      "Lasso: 0.356749995102018\nMultinomial: 0.7258666666666667\n"
     ],
     "output_type": "stream"
    }
   ],
   "source": [
    "# tried also those models but didn't achieve any good results.\n",
    "clf = Lasso(alpha=0.005, max_iter=50)\n",
    "clf.fit(X[0:22500], train_set_1_result)\n",
    "print(\"Lasso: {}\".format(clf.score(X[22500:30000], train_set_2_result)))\n",
    "\n",
    "clf = MultinomialNB()\n",
    "clf.fit(X[0:22500], train_set_1_result)\n",
    "print(\"Multinomial: {}\".format(clf.score(X[22500:30000], train_set_2_result)))"
   ],
   "metadata": {
    "collapsed": false,
    "pycharm": {
     "name": "#%%\n",
     "is_executing": false
    }
   }
  },
  {
   "cell_type": "code",
   "execution_count": 58,
   "outputs": [],
   "source": [
    "#My Solution on kaggle was generated here\n",
    "clf = LinearSVC()\n",
    "clf.fit(train_set, [encode_cuisine(x) for x in df['cuisine']])\n",
    "res = clf.predict(test_set)\n",
    "res = [decode_cuisine(x) for x in res]\n",
    "result = pd.DataFrame()\n",
    "result['Id'] = testset['id']\n",
    "result['cuisine'] = res\n",
    "result.to_csv(\"wynik.csv\", index=False, header=True)\n",
    "\n"
   ],
   "metadata": {
    "collapsed": false,
    "pycharm": {
     "name": "#%%\n",
     "is_executing": false
    }
   }
  },
  {
   "cell_type": "code",
   "execution_count": 9,
   "outputs": [],
   "source": [
    "#I also tried NN but didn't get good enough results.\n",
    "class NeuralNet(nn.Module):\n",
    "    def __init__(self, input, first, second, result):\n",
    "        super(NeuralNet, self).__init__()\n",
    "        self.layer1 = nn.Linear(input, first)\n",
    "        self.relu = nn.ReLU()\n",
    "        self.layer2 = nn.Linear(first, second)\n",
    "        self.layer3 = nn.Linear(second, result)\n",
    "        self.softmax = nn.LogSoftmax(dim=1)\n",
    "    def forward(self, x):\n",
    "        x = self.layer1(x)\n",
    "        x = self.relu(x)\n",
    "        x = self.layer2(x)\n",
    "        x = self.relu(x)\n",
    "        x = self.layer3(x)\n",
    "        x =  self.softmax(x)\n",
    "        return x"
   ],
   "metadata": {
    "collapsed": false,
    "pycharm": {
     "name": "#%%\n",
     "is_executing": false
    }
   }
  },
  {
   "cell_type": "code",
   "execution_count": 10,
   "outputs": [],
   "source": [
    "# Training settings, low batch sizes or else graphic card refuses to work with me\n",
    "batch_size = 32\n",
    "test_batch_size = 32\n",
    "epochs = 10\n",
    "lr = 0.01\n",
    "momentum = 0.5\n",
    "seed = 1\n",
    "log_interval = 300\n",
    "save_model = True\n",
    "use_cuda = True # change to False if running without GPU"
   ],
   "metadata": {
    "collapsed": false,
    "pycharm": {
     "name": "#%%\n",
     "is_executing": false
    }
   }
  },
  {
   "cell_type": "code",
   "execution_count": 11,
   "outputs": [],
   "source": [
    "torch.manual_seed(seed)\n",
    "\n",
    "device = torch.device(\"cuda\" if use_cuda else \"cpu\")\n",
    "\n",
    "kwargs = {'num_workers': 0, 'pin_memory': False} if use_cuda else {}"
   ],
   "metadata": {
    "collapsed": false,
    "pycharm": {
     "name": "#%%\n",
     "is_executing": false
    }
   }
  },
  {
   "cell_type": "code",
   "execution_count": 12,
   "outputs": [],
   "source": [
    "def train(log_interval, model, device, train_loader, optimizer, epoch):\n",
    "    model.train()\n",
    "    for batch_idx, (data, target) in enumerate(train_loader):\n",
    "        data, target = data.to(device), target.to(device)\n",
    "        optimizer.zero_grad()\n",
    "        output = model(data)\n",
    "        loss_f = nn.CrossEntropyLoss(reduction='sum')\n",
    "        loss = loss_f(output, target)\n",
    "        loss.backward()\n",
    "        optimizer.step()\n",
    "        if batch_idx % log_interval == 0:\n",
    "            print('Train Epoch: {} [{}/{} ({:.0f}%)]\\tLoss: {:.6f}'.format(\n",
    "                epoch, batch_idx * len(data), len(train_loader.dataset),\n",
    "                100. * batch_idx / len(train_loader), loss.item()))\n",
    "            \n",
    "def test(model, device, test_loader):\n",
    "    model.eval()\n",
    "    test_loss = 0\n",
    "    correct = 0\n",
    "    loss_f = nn.CrossEntropyLoss(reduction='sum')\n",
    "    with torch.no_grad():\n",
    "        for batch_idx, (data, target) in enumerate(test_loader):\n",
    "            data, target = data.to(device), target.to(device)\n",
    "            output = model(data)\n",
    "            test_loss += loss_f(output, target).item() # sum up batch loss\n",
    "            pred = output.max(1, keepdim=True)[1] # get the index of the max log-probability\n",
    "            correct += pred.eq(target.view_as(pred)).sum().item()\n",
    "\n",
    "    test_loss /= len(test_loader.dataset)\n",
    "\n",
    "    print('\\nTest set: Average loss: {:.4f}, Accuracy: {}/{} ({:.0f}%)\\n'.format(\n",
    "        test_loss, correct, len(test_loader.dataset),\n",
    "        100. * correct / len(test_loader.dataset)))"
   ],
   "metadata": {
    "collapsed": false,
    "pycharm": {
     "name": "#%% code from notebook about pytorch, I've only changed loss function \n",
     "is_executing": false
    }
   }
  },
  {
   "cell_type": "code",
   "execution_count": 13,
   "outputs": [],
   "source": [
    "class TrainClass(torchdata.Dataset):\n",
    "    def __init__(self, ingredients, cuisine, device):\n",
    "        self.ingredients = torch.tensor(ingredients, dtype=torch.float32).to(device)\n",
    "        self.ingredients.unsqueeze(0)\n",
    "        self.cuisine = torch.tensor(cuisine, dtype=torch.int64).to(device)\n",
    "        print(type(self.ingredients))\n",
    "        print(self.cuisine.type)\n",
    "    def __len__(self):\n",
    "        return len(self.ingredients)\n",
    "    \n",
    "    def __getitem__(self, index):\n",
    "        ingr, target = self.ingredients[index], self.cuisine[index]\n",
    "        return ingr, target"
   ],
   "metadata": {
    "collapsed": false,
    "pycharm": {
     "name": "#%%\n",
     "is_executing": false
    }
   }
  },
  {
   "cell_type": "code",
   "execution_count": 14,
   "outputs": [
    {
     "name": "stdout",
     "text": [
      "<class 'torch.Tensor'>\n<built-in method type of Tensor object at 0x000001EB80218638>\n"
     ],
     "output_type": "stream"
    }
   ],
   "source": [
    "train_loader = torchdata.DataLoader(TrainClass(ad.values, data_y, device), batch_size= batch_size, shuffle=True, **kwargs)\n",
    "model1 = NeuralNet(2866, 5500, 2200, 20).to(device)\n",
    "optimizer = optim.Adam(model1.parameters())"
   ],
   "metadata": {
    "collapsed": false,
    "pycharm": {
     "name": "#%%\n",
     "is_executing": false
    }
   }
  },
  {
   "cell_type": "code",
   "execution_count": 15,
   "outputs": [
    {
     "name": "stdout",
     "text": [
      "Train Epoch: 1 [0/30000 (0%)]\tLoss: 95.742363\n",
      "Train Epoch: 1 [9600/30000 (32%)]\tLoss: 34.291859\n",
      "Train Epoch: 1 [19200/30000 (64%)]\tLoss: 24.385832\n",
      "Train Epoch: 1 [28800/30000 (96%)]\tLoss: 20.208385\n",
      "Train Epoch: 2 [0/30000 (0%)]\tLoss: 15.276747\n",
      "Train Epoch: 2 [9600/30000 (32%)]\tLoss: 26.666166\n",
      "Train Epoch: 2 [19200/30000 (64%)]\tLoss: 17.548162\n",
      "Train Epoch: 2 [28800/30000 (96%)]\tLoss: 22.677431\n",
      "Train Epoch: 3 [0/30000 (0%)]\tLoss: 5.757170\n",
      "Train Epoch: 3 [9600/30000 (32%)]\tLoss: 9.602034\n",
      "Train Epoch: 3 [19200/30000 (64%)]\tLoss: 4.564411\n",
      "Train Epoch: 3 [28800/30000 (96%)]\tLoss: 15.048946\n",
      "Train Epoch: 4 [0/30000 (0%)]\tLoss: 4.895045\n",
      "Train Epoch: 4 [9600/30000 (32%)]\tLoss: 0.800541\n",
      "Train Epoch: 4 [19200/30000 (64%)]\tLoss: 12.277529\n",
      "Train Epoch: 4 [28800/30000 (96%)]\tLoss: 2.216686\n",
      "Train Epoch: 5 [0/30000 (0%)]\tLoss: 5.875245\n",
      "Train Epoch: 5 [9600/30000 (32%)]\tLoss: 1.995206\n",
      "Train Epoch: 5 [19200/30000 (64%)]\tLoss: 3.323294\n",
      "Train Epoch: 5 [28800/30000 (96%)]\tLoss: 9.437392\n",
      "Train Epoch: 6 [0/30000 (0%)]\tLoss: 2.444021\n",
      "Train Epoch: 6 [9600/30000 (32%)]\tLoss: 1.182278\n",
      "Train Epoch: 6 [19200/30000 (64%)]\tLoss: 2.123951\n",
      "Train Epoch: 6 [28800/30000 (96%)]\tLoss: 9.175142\n",
      "Train Epoch: 7 [0/30000 (0%)]\tLoss: 0.434389\n",
      "Train Epoch: 7 [9600/30000 (32%)]\tLoss: 0.182029\n",
      "Train Epoch: 7 [19200/30000 (64%)]\tLoss: 0.239238\n",
      "Train Epoch: 7 [28800/30000 (96%)]\tLoss: 0.286017\n",
      "Train Epoch: 8 [0/30000 (0%)]\tLoss: 1.502437\n",
      "Train Epoch: 8 [9600/30000 (32%)]\tLoss: 0.131386\n",
      "Train Epoch: 8 [19200/30000 (64%)]\tLoss: 0.245894\n",
      "Train Epoch: 8 [28800/30000 (96%)]\tLoss: 0.085616\n",
      "Train Epoch: 9 [0/30000 (0%)]\tLoss: 0.109139\n",
      "Train Epoch: 9 [9600/30000 (32%)]\tLoss: 0.016511\n",
      "Train Epoch: 9 [19200/30000 (64%)]\tLoss: 0.028671\n",
      "Train Epoch: 9 [28800/30000 (96%)]\tLoss: 0.346055\n",
      "Train Epoch: 10 [0/30000 (0%)]\tLoss: 0.017752\n",
      "Train Epoch: 10 [9600/30000 (32%)]\tLoss: 0.514359\n",
      "Train Epoch: 10 [19200/30000 (64%)]\tLoss: 6.819494\n",
      "Train Epoch: 10 [28800/30000 (96%)]\tLoss: 0.490458\n"
     ],
     "output_type": "stream"
    }
   ],
   "source": [
    "\n",
    "for epoch in range(1, epochs + 1):\n",
    "    train(log_interval, model1, device, train_loader, optimizer, epoch)\n",
    "\n"
   ],
   "metadata": {
    "collapsed": false,
    "pycharm": {
     "name": "#%%\n",
     "is_executing": false
    }
   }
  },
  {
   "cell_type": "code",
   "execution_count": 16,
   "outputs": [
    {
     "data": {
      "text/plain": "tensor([[-37.1142, -46.7480, -44.4376,  ..., -27.5402, -40.8777, -46.1751],\n        [ -0.1566, -10.1664, -10.0039,  ...,  -7.1329,  -3.9872,  -8.3023],\n        [-25.1073, -14.7559, -17.8871,  ..., -15.8472, -20.8948, -21.7334],\n        ...,\n        [-63.3316, -58.7054, -64.8245,  ..., -57.6128, -36.9036, -29.7913],\n        [-10.6061, -11.3544, -13.6310,  ..., -10.5706, -18.6609, -11.7136],\n        [-23.1772, -15.6801, -30.0379,  ..., -35.0795,  -0.4896, -16.8961]],\n       device='cuda:0', grad_fn=<LogSoftmaxBackward>)"
     },
     "metadata": {},
     "output_type": "execute_result",
     "execution_count": 16
    }
   ],
   "source": [
    "x = Variable(torch.from_numpy(testdf.values[0:4774]).to(device)).float()\n",
    "y_pred = model1(x)\n",
    "y_pred"
   ],
   "metadata": {
    "collapsed": false,
    "pycharm": {
     "name": "#%% I had to split it into two parts because my graphic card couldn't calculate everything at once.\n",
     "is_executing": false
    }
   }
  },
  {
   "cell_type": "code",
   "execution_count": 17,
   "outputs": [],
   "source": [
    "x2 = Variable(torch.from_numpy(testdf.values[4774:9774]).to(device)).float()\n",
    "y_pred2 = model1(x2)"
   ],
   "metadata": {
    "collapsed": false,
    "pycharm": {
     "name": "#%%\n",
     "is_executing": false
    }
   }
  },
  {
   "cell_type": "code",
   "execution_count": 18,
   "outputs": [
    {
     "name": "stdout",
     "text": [
      "torch.Size([9774, 20])\ntorch.Size([4774, 20])\ntorch.Size([5000, 20])\n(9774, 2)\n"
     ],
     "output_type": "stream"
    }
   ],
   "source": [
    "duo = torch.cat((y_pred, y_pred2), dim=0)\n",
    "print(duo.shape)\n",
    "print(y_pred.shape)\n",
    "print(y_pred2.shape)\n",
    "print(testset.shape)\n"
   ],
   "metadata": {
    "collapsed": false,
    "pycharm": {
     "name": "#%%\n",
     "is_executing": false
    }
   }
  },
  {
   "cell_type": "code",
   "execution_count": 19,
   "outputs": [],
   "source": [
    "pred = duo.argmax(dim=1)"
   ],
   "metadata": {
    "collapsed": false,
    "pycharm": {
     "name": "#%%\n",
     "is_executing": false
    }
   }
  },
  {
   "cell_type": "code",
   "execution_count": 20,
   "outputs": [],
   "source": [
    "#result is ~0.784 so that's not good enough\n",
    "encoded = np.array(pred.cpu())\n",
    "encoded = [decode_cuisine(x) for x in encoded]\n",
    "result = pd.DataFrame()\n",
    "result['Id'] = testset['id']\n",
    "result['cuisine'] = encoded\n",
    "result.to_csv(\"nn_wynik.csv\", index=False, header=True)\n",
    "\n",
    "\n"
   ],
   "metadata": {
    "collapsed": false,
    "pycharm": {
     "name": "#%%\n",
     "is_executing": false
    }
   }
  }
 ],
 "metadata": {
  "kernelspec": {
   "display_name": "Python 3",
   "language": "python",
   "name": "python3"
  },
  "language_info": {
   "codemirror_mode": {
    "name": "ipython",
    "version": 2
   },
   "file_extension": ".py",
   "mimetype": "text/x-python",
   "name": "python",
   "nbconvert_exporter": "python",
   "pygments_lexer": "ipython2",
   "version": "2.7.6"
  },
  "pycharm": {
   "stem_cell": {
    "cell_type": "raw",
    "source": [],
    "metadata": {
     "collapsed": false
    }
   }
  }
 },
 "nbformat": 4,
 "nbformat_minor": 0
}